{
 "cells": [
  {
   "cell_type": "markdown",
   "metadata": {},
   "source": [
    "# week1\n",
    "\n",
    "For this week, you will required to submit the following:\n",
    "\n",
    "1. A description of the problem and a discussion of the background. (15 marks)\n",
    "2. A description of the data and how it will be used to solve the problem. (15 marks)"
   ]
  },
  {
   "cell_type": "code",
   "execution_count": null,
   "metadata": {},
   "outputs": [],
   "source": []
  },
  {
   "cell_type": "code",
   "execution_count": null,
   "metadata": {},
   "outputs": [],
   "source": []
  },
  {
   "cell_type": "code",
   "execution_count": null,
   "metadata": {},
   "outputs": [],
   "source": []
  },
  {
   "cell_type": "code",
   "execution_count": null,
   "metadata": {},
   "outputs": [],
   "source": []
  },
  {
   "cell_type": "markdown",
   "metadata": {},
   "source": [
    "# week2\n",
    "\n",
    "For the second week, the final deliverables of the project will be:\n",
    "\n",
    " 1. A full report consisting of all of the following components (15 marks):\n",
    "  + Introduction where you discuss the business problem and who would be interested in this project. \n",
    "  + Data where you describe the data that will be used to solve the problem and the source of the data.\n",
    "  + Methodology section which represents the main component of the report where you discuss and describe any exploratory data analysis that you did, any inferential statistical testing that you performed, if any, and what machine learnings were used and why.\n",
    "  + Results section where you discuss the results.\n",
    "  + Discussion section where you discuss any observations you noted and any recommendations you can make based on the results.\n",
    "  + Conclusion section where you conclude the report.\n",
    " 2. A link to your Notebook on your Github repository pushed showing your code. (15 marks)\n",
    "\n",
    " 3. Your choice of a presentation or blogpost. (10 marks)\n",
    " \n",
    "Here are examples of previous outstanding submissions that should give you an idea of what your report would look like, what your notebook would look like in terms of clean, clear, and well-commented code, and what your presentation would look like or your blogpost would look like:\n",
    "\n",
    "Report: https://cocl.us/coursera_capstone_report\n",
    "<br>Notebook: https://cocl.us/coursera_capstone_notebook\n",
    "<br>Presentation: https://cocl.us/coursera_capstone_presentation\n",
    "<br>Blogpost: https://cocl.us/coursera_capstone_blogpost"
   ]
  }
 ],
 "metadata": {
  "kernelspec": {
   "display_name": "Python 3",
   "language": "python",
   "name": "python3"
  },
  "language_info": {
   "codemirror_mode": {
    "name": "ipython",
    "version": 3
   },
   "file_extension": ".py",
   "mimetype": "text/x-python",
   "name": "python",
   "nbconvert_exporter": "python",
   "pygments_lexer": "ipython3",
   "version": "3.6.7"
  },
  "toc": {
   "base_numbering": 1,
   "nav_menu": {},
   "number_sections": true,
   "sideBar": true,
   "skip_h1_title": false,
   "title_cell": "Table of Contents",
   "title_sidebar": "Contents",
   "toc_cell": false,
   "toc_position": {},
   "toc_section_display": true,
   "toc_window_display": true
  }
 },
 "nbformat": 4,
 "nbformat_minor": 2
}
