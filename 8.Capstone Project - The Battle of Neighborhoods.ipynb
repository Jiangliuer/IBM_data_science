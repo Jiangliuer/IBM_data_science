{
 "cells": [
  {
   "cell_type": "markdown",
   "metadata": {},
   "source": [
    "# Digit Recognizer\n",
    "\n",
    "## Problem and Background\n",
    "\n",
    "+ Problem\n",
    "\n",
    "In this project, our goal is to correctly identify digits from a dataset of tens of thousands of handwritten images.\n",
    "\n",
    "+ Dataset\n",
    "\n",
    "MNIST (\"Modified National Institute of Standards and Technology\") is the de facto “hello world” dataset of computer vision. Since its release in 1999, this classic dataset of handwritten images has served as the basis for benchmarking classification algorithms. As new machine learning techniques emerge, MNIST remains a reliable resource for researchers and learners alike.\n",
    "\n",
    "\n",
    "+ Solution\n",
    "\n",
    "This task is a typical classification. We can solve this problem by machine learning and image related deep learning model. From easy to difficult, the methods are as follows: \n",
    "  - Baseline model: Supervised Classification methods（such as SVM，K-nearest neighbors）\n",
    "  - Base CNN model: Basic Computer Vision neural networks model( simple self-defintion CNN, only convolution and fully connection layer)\n",
    "  - Typical CNN model 2: typical cnn models, such as alexnet, resNet, densenet, ...\n",
    "  - Advanced model：some advance model"
   ]
  },
  {
   "cell_type": "markdown",
   "metadata": {},
   "source": [
    "## data analysis"
   ]
  },
  {
   "cell_type": "code",
   "execution_count": 7,
   "metadata": {},
   "outputs": [],
   "source": [
    "import pandas as pd\n",
    "import seaborn as sns\n",
    "from matplotlib import pyplot as plt\n",
    "\n",
    "%matplotlib inline"
   ]
  },
  {
   "cell_type": "code",
   "execution_count": 12,
   "metadata": {},
   "outputs": [
    {
     "data": {
      "image/png": "[encoded data removed]",
      "text/plain": [
       "<Figure size 432x288 with 1 Axes>"
      ]
     },
     "metadata": {
      "needs_background": "light"
     },
     "output_type": "display_data"
    },
    {
     "name": "stdout",
     "output_type": "stream",
     "text": [
      "ok\n"
     ]
    }
   ],
   "source": [
    "# load data\n",
    "train = pd.read_csv(\"data/train.csv\")\n",
    "test = pd.read_csv(\"data/test.csv\")\n",
    "\n",
    "# get X, y\n",
    "X_train = train.drop(labels = [\"label\"],axis = 1)\n",
    "y_train = train[\"label\"]\n",
    "X_test = test\n",
    "\n",
    "\n",
    "sns.countplot(y_train)\n",
    "plt.show()"
   ]
  },
  {
   "cell_type": "markdown",
   "metadata": {},
   "source": [
    "# appendix I \n",
    "\n",
    "## week1\n",
    "\n",
    "For this week, you will required to submit the following:\n",
    "\n",
    "1. A description of the problem and a discussion of the background. (15 marks)\n",
    "2. A description of the data and how it will be used to solve the problem. (15 marks)\n",
    "\n",
    "## week2\n",
    "\n",
    "For the second week, the final deliverables of the project will be:\n",
    "\n",
    " 1. A full report consisting of all of the following components (15 marks):\n",
    "  + Introduction where you discuss the business problem and who would be interested in this project. \n",
    "  + Data where you describe the data that will be used to solve the problem and the source of the data.\n",
    "  + Methodology section which represents the main component of the report where you discuss and describe any exploratory data analysis that you did, any inferential statistical testing that you performed, if any, and what machine learnings were used and why.\n",
    "  + Results section where you discuss the results.\n",
    "  + Discussion section where you discuss any observations you noted and any recommendations you can make based on the results.\n",
    "  + Conclusion section where you conclude the report.\n",
    " 2. A link to your Notebook on your Github repository pushed showing your code. (15 marks)\n",
    "\n",
    " 3. Your choice of a presentation or blogpost. (10 marks)\n",
    " \n",
    "Here are examples of previous outstanding submissions that should give you an idea of what your report would look like, what your notebook would look like in terms of clean, clear, and well-commented code, and what your presentation would look like or your blogpost would look like:\n",
    "\n",
    "Report: https://cocl.us/coursera_capstone_report\n",
    "<br>Notebook: https://cocl.us/coursera_capstone_notebook\n",
    "<br>Presentation: https://cocl.us/coursera_capstone_presentation\n",
    "<br>Blogpost: https://cocl.us/coursera_capstone_blogpost"
   ]
  },
  {
   "cell_type": "markdown",
   "metadata": {},
   "source": []
  }
 ],
 "metadata": {
  "kernelspec": {
   "display_name": "Python 3",
   "language": "python",
   "name": "python3"
  },
  "language_info": {
   "codemirror_mode": {
    "name": "ipython",
    "version": 3
   },
   "file_extension": ".py",
   "mimetype": "text/x-python",
   "name": "python",
   "nbconvert_exporter": "python",
   "pygments_lexer": "ipython3",
   "version": "3.6.7"
  },
  "toc": {
   "base_numbering": 1,
   "nav_menu": {},
   "number_sections": true,
   "sideBar": true,
   "skip_h1_title": false,
   "title_cell": "Table of Contents",
   "title_sidebar": "Contents",
   "toc_cell": false,
   "toc_position": {},
   "toc_section_display": true,
   "toc_window_display": true
  }
 },
 "nbformat": 4,
 "nbformat_minor": 2
}
