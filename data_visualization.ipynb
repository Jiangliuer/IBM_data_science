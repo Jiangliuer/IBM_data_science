
# read data
df = pd.read_csv("data/Police_Department_Incidents_-_Previous_Year__2016_.csv")
crime = df[["PdDistrict", "Category"]].rename(columns={'PdDistrict':'Neighborhood', "Category":"Count"})

crime_cnt = crime.groupby("Neighborhood").count()
crime_cnt.reset_index(inplace=True)
crime_cnt


# San Francisco latitude and longitude values
latitude = 37.77
longitude = -122.42
world_geo = r'data/san-francisco.geojson' # geojson file
# threshold_scale = np.linspace(crime_cnt['Count'].min(),
#                               crime_cnt['Count'].max(),
#                               6, dtype=int)
# threshold_scale = threshold_scale.tolist() # change the numpy array to a list
# threshold_scale[-1] = threshold_scale[-1] + 1 # make sure that the last value of the list is greater than the maximum immigration


# create a plain world map
world_map = folium.Map(location=[latitude, longitude], zoom_start=12)

world_map.choropleth(
    geo_data=world_geo,
    data=crime_cnt,
    columns=['Neighborhood', 'Count'],
    # threshold_scale=threshold_scale,
    key_on='feature.properties.DISTRICT',
    fill_color='YlOrRd', 
    fill_opacity=0.7, 
    line_opacity=0.2,
    legend_name='Crime in San Francisco'
)

# display map
world_map
